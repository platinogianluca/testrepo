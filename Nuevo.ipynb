{
 "cells": [
  {
   "cell_type": "markdown",
   "id": "dc78f1eb-ee15-467c-a2ed-3d8e71e76a74",
   "metadata": {},
   "source": [
    "gfgf"
   ]
  },
  {
   "cell_type": "code",
   "execution_count": null,
   "id": "6720d6cb-f8f5-4015-aa6a-0517e0b79685",
   "metadata": {},
   "outputs": [],
   "source": []
  }
 ],
 "metadata": {
  "kernelspec": {
   "display_name": "Python",
   "language": "python",
   "name": "conda-env-python-py"
  },
  "language_info": {
   "codemirror_mode": {
    "name": "ipython",
    "version": 3
   },
   "file_extension": ".py",
   "mimetype": "text/x-python",
   "name": "python",
   "nbconvert_exporter": "python",
   "pygments_lexer": "ipython3",
   "version": "3.7.12"
  }
 },
 "nbformat": 4,
 "nbformat_minor": 5
}
